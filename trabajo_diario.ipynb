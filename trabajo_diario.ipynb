{
 "cells": [
  {
   "cell_type": "code",
   "execution_count": 27,
   "metadata": {},
   "outputs": [],
   "source": [
    "import sys\n",
    "import xlsxwriter\n",
    "import pandas as pd\n",
    "import sys\n",
    "import psycopg2\n",
    "import os\n",
    "from dotenv import load_dotenv\n",
    "from datetime import date\n"
   ]
  },
  {
   "cell_type": "code",
   "execution_count": 35,
   "metadata": {},
   "outputs": [
    {
     "name": "stdout",
     "output_type": "stream",
     "text": [
      "Conexión exitosa\n"
     ]
    }
   ],
   "source": [
    "today = date.today()\n",
    "load_dotenv()\n",
    "#configurar la conexion a la base de datos\n",
    "DB_USERNAME = 'djacome'\n",
    "DB_DATABASE = 'encuesta'\n",
    "DB_PASSWORD = 'V+hD2%jd27YN'\n",
    "DB_PORT = '5432'\n",
    "DB_HOST='192.168.0.221'\n",
    "\n",
    "# Conectar a DB\n",
    "# Conectar a PostgreSQL\n",
    "try:\n",
    "    cnx = psycopg2.connect(\n",
    "        user=DB_USERNAME,\n",
    "        password=DB_PASSWORD,\n",
    "        host=DB_HOST,\n",
    "        port=DB_PORT,\n",
    "        database=DB_DATABASE\n",
    "    )\n",
    "    print(\"Conexión exitosa\")\n",
    "except psycopg2.Error as e:\n",
    "    print(\"Ocurrio un error al conectar a la base de datos\", e)\n",
    "\n"
   ]
  },
  {
   "cell_type": "code",
   "execution_count": 38,
   "metadata": {},
   "outputs": [
    {
     "name": "stderr",
     "output_type": "stream",
     "text": [
      "C:\\Users\\dperez\\AppData\\Local\\Temp\\ipykernel_31964\\1785139216.py:1: UserWarning: pandas only supports SQLAlchemy connectable (engine/connection) or database string URI or sqlite3 DBAPI2 connection. Other DBAPI2 objects are not tested. Please consider using SQLAlchemy.\n",
      "  encuestas=pd.read_sql(\"\"\"select respuestas20.aplica, egresados.cuenta, respuestas20.fec_capt, carreras.carrera, carreras.plantel\n"
     ]
    }
   ],
   "source": [
    "encuestas=pd.read_sql(\"\"\"select respuestas20.aplica, egresados.cuenta, respuestas20.fec_capt, carreras.carrera, carreras.plantel\n",
    "                         from((respuestas20\n",
    "                         inner join egresados on respuestas20.cuenta=egresados.cuenta)\n",
    "                         inner join carreras  on carreras.clave_carrera=egresados.carrera and carreras.clave_plantel=egresados.plantel)\n",
    "                         \n",
    "                         where (respuestas20.completed=1) and egresados.anio_egreso=2020\"\"\",cnx)\n"
   ]
  },
  {
   "cell_type": "code",
   "execution_count": 39,
   "metadata": {},
   "outputs": [],
   "source": [
    "ClavesNombres = {'17':'Erendira', '12':'Monica', '15':'César', '20':'María', '21':'Ivonne', '8':'Elia', '7':'otra monica','6':'Silvia','9':'Veronica',\n",
    "                 '14':'Alberto','18':'Daniela','19':'Elvira','13':'Carolina','22':'Elizabeth','23':'Sandra','24':'Miguel','25':'Amanda'}\n"
   ]
  },
  {
   "cell_type": "code",
   "execution_count": 40,
   "metadata": {},
   "outputs": [],
   "source": [
    "def mapeo(x):\n",
    "    if(x==None):\n",
    "        return 'INTERNET'\n",
    "    else:\n",
    "        try:\n",
    "            return ClavesNombres[x]\n",
    "        except:\n",
    "            return 'Encuestador Desconocido'"
   ]
  },
  {
   "cell_type": "code",
   "execution_count": 41,
   "metadata": {},
   "outputs": [
    {
     "name": "stdout",
     "output_type": "stream",
     "text": [
      "0      2024-04-24 00:00:00+00:00\n",
      "1      2025-03-04 00:00:00+00:00\n",
      "2      2024-05-08 00:00:00+00:00\n",
      "3      2024-09-23 23:40:49+00:00\n",
      "4      2024-11-21 00:00:00+00:00\n",
      "                  ...           \n",
      "4111   2024-10-17 00:00:00+00:00\n",
      "4112                         NaT\n",
      "4113   2024-10-15 00:00:00+00:00\n",
      "4114                         NaT\n",
      "4115   2024-04-25 00:00:00+00:00\n",
      "Name: fec_capt, Length: 4116, dtype: datetime64[ns, UTC]\n",
      "                    aplica     cuenta                  fec_capt  \\\n",
      "0                    César  314025834 2024-04-24 00:00:00+00:00   \n",
      "1                 Erendira  309266880 2025-03-04 00:00:00+00:00   \n",
      "2                   Sandra  412528703 2024-05-08 00:00:00+00:00   \n",
      "3  Encuestador Desconocido  312316084 2024-09-23 23:40:49+00:00   \n",
      "4                   Amanda  313129252 2024-11-21 00:00:00+00:00   \n",
      "5                   Miguel  416013788 2024-09-18 00:00:00+00:00   \n",
      "6  Encuestador Desconocido  313234295 2024-09-18 23:30:43+00:00   \n",
      "7  Encuestador Desconocido  313292134 2024-09-18 14:23:27+00:00   \n",
      "8                   Amanda  312065593 2024-09-10 00:00:00+00:00   \n",
      "9                   Amanda  312681696 2024-11-19 00:00:00+00:00   \n",
      "\n",
      "                        carrera                     plantel  \n",
      "0                Artes Visuales  Facultad de Artes y Diseño  \n",
      "1  Diseño y Comunicación Visual  Facultad de Artes y Diseño  \n",
      "2  Diseño y Comunicación Visual  Facultad de Artes y Diseño  \n",
      "3                  Fisioterapia        Facultad de Medicina  \n",
      "4                  Fisioterapia        Facultad de Medicina  \n",
      "5                  Fisioterapia        Facultad de Medicina  \n",
      "6                  Fisioterapia        Facultad de Medicina  \n",
      "7                  Fisioterapia        Facultad de Medicina  \n",
      "8               Ciencia Forense        Facultad de Medicina  \n",
      "9                  Fisioterapia        Facultad de Medicina  \n",
      "['César' 'Erendira' 'Sandra' 'Encuestador Desconocido' 'Amanda' 'Miguel'\n",
      " 'Elizabeth' 'María' 'Monica' 'INTERNET']\n"
     ]
    }
   ],
   "source": [
    "encuestas['aplica'] = encuestas['aplica'].map(lambda x:mapeo(x))\n",
    "\n",
    "print(encuestas['fec_capt'])\n",
    "print(encuestas[0:10])\n",
    "print(encuestas['aplica'].unique())\n",
    "\n",
    "writer = pd.ExcelWriter('storage/reporte_individual20.xlsx', engine='xlsxwriter')\n",
    "\n",
    "workbook = writer.book\n",
    "a_color='#173d83'"
   ]
  },
  {
   "cell_type": "code",
   "execution_count": 43,
   "metadata": {},
   "outputs": [],
   "source": [
    "#estilos------------------------------\n",
    "\n",
    "negro_b = workbook.add_format({\n",
    "    'bold': 2,\n",
    "    'border': 0,\n",
    "    'align': 'center',\n",
    "    'valign': 'vcenter',\n",
    "    'font_color': 'black',\n",
    "    'font_size':13}) \n",
    "\n",
    "header_format = workbook.add_format({\n",
    "    'bold': True,\n",
    "    'bg_color': a_color,\n",
    "    'text_wrap': True,\n",
    "    'valign': 'top',\n",
    "    'align': 'center',\n",
    "    'border_color':'white',\n",
    "    'font_color': 'white',\n",
    "    'border': 1,\n",
    "    'font_size':12})\n",
    "blue_content = workbook.add_format({\n",
    "    'border': 1,\n",
    "    'align': 'center',\n",
    "    'valign': 'vcenter',\n",
    "    'font_color': 'black',\n",
    "    'font_size':10,\n",
    "    'border_color':a_color})\n",
    "date_content = workbook.add_format({\n",
    "    'border': 1,\n",
    "    'align': 'center',\n",
    "    'valign': 'vcenter',\n",
    "    'font_color': 'black',\n",
    "    'font_size':10,\n",
    "    'border_color':a_color,\n",
    "    'num_format': 'dd/mm/yy'})\n",
    "date_content_bold = workbook.add_format({\n",
    "    'align': 'center',\n",
    "    'valign': 'vcenter',\n",
    "    'font_color': 'black',\n",
    "    'font_size':12,\n",
    "    'bold': True,\n",
    "    'num_format': 'dd/mm/yy'})"
   ]
  },
  {
   "cell_type": "code",
   "execution_count": 44,
   "metadata": {},
   "outputs": [
    {
     "name": "stderr",
     "output_type": "stream",
     "text": [
      "C:\\Users\\dperez\\AppData\\Local\\Packages\\PythonSoftwareFoundation.Python.3.11_qbz5n2kfra8p0\\LocalCache\\local-packages\\Python311\\site-packages\\xlsxwriter\\worksheet.py:1574: UserWarning: Image file 'img/logoPVE.png' not found.\n",
      "  warn(f\"Image file '{filename}' not found.\")\n"
     ]
    },
    {
     "data": {
      "text/plain": [
       "0"
      ]
     },
     "execution_count": 44,
     "metadata": {},
     "output_type": "execute_result"
    }
   ],
   "source": [
    "worksheet =workbook.add_worksheet()\n",
    "worksheet.merge_range('C2:H3', 'PROGRAMA DE VINCULACION A EGRESADOS UNAM', negro_b)\n",
    "worksheet.merge_range('C4:H4', 'CONSECUTIVO ENCUESTAS 2020', negro_b)\n",
    "worksheet.insert_image(\"A1\", \"img/logoPVE.png\",{\"x_scale\": 0.2, \"y_scale\": 0.2})\n",
    "worksheet.merge_range('G6:H6',today, date_content_bold)\n",
    "worksheet.write('B8','Numero de cuenta',header_format)\n",
    "worksheet.write('C8','Fecha en que realizó',header_format)\n",
    "worksheet.write('D8','Aplicador',header_format)\n",
    "worksheet.write('E8','Carrera',header_format)\n",
    "worksheet.write('F8','Plantel',header_format)"
   ]
  },
  {
   "cell_type": "code",
   "execution_count": 45,
   "metadata": {},
   "outputs": [],
   "source": [
    "for i in range(0,len(encuestas)):\n",
    "    worksheet.write('B'+str(i+9),encuestas['cuenta'].values[i],blue_content)\n",
    "    worksheet.write('C'+str(i+9),str(encuestas['fec_capt'].values[i]),date_content)\n",
    "    worksheet.write('D'+str(i+9),encuestas['aplica'].values[i],blue_content)\n",
    "    worksheet.write('E'+str(i+9),encuestas['carrera'].values[i],blue_content)\n",
    "    worksheet.write('F'+str(i+9),encuestas['plantel'].values[i],blue_content)\n",
    "worksheet.set_column('J:J',15)\n",
    "worksheet.set_column('B:C',17)\n",
    "worksheet.set_column('E:F',28)\n",
    "worksheet.set_landscape()\n",
    "worksheet.set_paper(9)\n",
    "worksheet.fit_to_pages(1, 1)  \n",
    "workbook.close()\n"
   ]
  }
 ],
 "metadata": {
  "kernelspec": {
   "display_name": "Python 3",
   "language": "python",
   "name": "python3"
  },
  "language_info": {
   "codemirror_mode": {
    "name": "ipython",
    "version": 3
   },
   "file_extension": ".py",
   "mimetype": "text/x-python",
   "name": "python",
   "nbconvert_exporter": "python",
   "pygments_lexer": "ipython3",
   "version": "3.11.9"
  }
 },
 "nbformat": 4,
 "nbformat_minor": 2
}
